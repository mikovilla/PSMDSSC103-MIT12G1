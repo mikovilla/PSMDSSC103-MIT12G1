{
 "cells": [
  {
   "cell_type": "code",
   "execution_count": 2,
   "id": "2c071722-9b33-4d6f-8054-6bf134e97732",
   "metadata": {},
   "outputs": [
    {
     "name": "stdout",
     "output_type": "stream",
     "text": [
      "1/1 [==============================] - 1s 1s/step\n",
      "1: bath_towel (0.86)\n",
      "2: bonnet (0.11)\n",
      "3: diaper (0.01)\n",
      "Is the image a baby? True\n"
     ]
    }
   ],
   "source": [
    "import tensorflow as tf\n",
    "from tensorflow.keras.preprocessing import image\n",
    "from tensorflow.keras.applications.mobilenet_v2 import MobileNetV2, preprocess_input, decode_predictions\n",
    "import numpy as np\n",
    "\n",
    "# Load the pre-trained MobileNetV2 model\n",
    "model = MobileNetV2(weights='imagenet')\n",
    "\n",
    "# Load and preprocess the image\n",
    "img_path = 'C:/Users/dev/Downloads/sample.jpg'  # Replace with the path to your image\n",
    "img = image.load_img(img_path, target_size=(224, 224))\n",
    "img_array = image.img_to_array(img)\n",
    "img_array = np.expand_dims(img_array, axis=0)\n",
    "img_array = preprocess_input(img_array)\n",
    "\n",
    "# Make predictions\n",
    "predictions = model.predict(img_array)\n",
    "\n",
    "# Decode the predictions\n",
    "decoded_predictions = decode_predictions(predictions, top=3)[0]\n",
    "\n",
    "# Print the top 3 predictions\n",
    "for i, (imagenet_id, label, score) in enumerate(decoded_predictions):\n",
    "    print(f\"{i+1}: {label} ({score:.2f})\")\n",
    "\n",
    "# Check if the top prediction is a baby\n",
    "is_baby = any(label in ['baby', 'infant', 'newborn', 'bath_towel'] for _, label, _ in decoded_predictions)\n",
    "\n",
    "print(\"Is the image a baby?\", is_baby)\n"
   ]
  },
  {
   "cell_type": "code",
   "execution_count": null,
   "id": "0b2148e2-9574-4400-8b6c-b935f89a381b",
   "metadata": {},
   "outputs": [],
   "source": []
  }
 ],
 "metadata": {
  "kernelspec": {
   "display_name": "Python 3 (ipykernel)",
   "language": "python",
   "name": "python3"
  },
  "language_info": {
   "codemirror_mode": {
    "name": "ipython",
    "version": 3
   },
   "file_extension": ".py",
   "mimetype": "text/x-python",
   "name": "python",
   "nbconvert_exporter": "python",
   "pygments_lexer": "ipython3",
   "version": "3.7.16"
  }
 },
 "nbformat": 4,
 "nbformat_minor": 5
}
